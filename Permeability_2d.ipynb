{
  "cells": [
    {
      "cell_type": "markdown",
      "metadata": {
        "id": "view-in-github",
        "colab_type": "text"
      },
      "source": [
        "<a href=\"https://colab.research.google.com/github/BC-Chang/porescale_permeability_2d/blob/master/Permeability_2d.ipynb\" target=\"_parent\"><img src=\"https://colab.research.google.com/assets/colab-badge.svg\" alt=\"Open In Colab\"/></a>"
      ]
    },
    {
      "cell_type": "markdown",
      "metadata": {
        "id": "N-k4vBB36_sw",
        "pycharm": {
          "name": "#%% md\n"
        }
      },
      "source": [
        "# 2D Permeability Estimation\n",
        "### Drs. Masa Prodanovic and Bernard Chang\n",
        "\n",
        "\n",
        "In this activity, we will compute the single phase permeability of a 2D sample using lattice Boltzmann (LBM) simulations.\n",
        "\n",
        "Before we get started, let's import some packages."
      ]
    },
    {
      "cell_type": "code",
      "execution_count": null,
      "metadata": {
        "id": "1gE4Q1IO04JV"
      },
      "outputs": [],
      "source": [
        "#@title Import Packages\n",
        "%%capture\n",
        "!pip install scikit-image==0.23.2 \"numpy<2.0.0\" porespy==2.2.2 --force-reinstall\n",
        "\n",
        "import numpy as np\n",
        "import matplotlib.pyplot as plt\n",
        "import scipy as sc\n",
        "import tifffile\n",
        "import porespy as ps\n",
        "\n",
        "from skimage.measure import regionprops,label\n",
        "\n",
        "import sys\n",
        "import os\n",
        "from tqdm import tqdm\n",
        "\n",
        "try:\n",
        "  os.chdir(\"./porescale_permeability_2d\")\n",
        "  # sys.path.append(\"./LBM_Workshop/\")\n",
        "except:\n",
        "  !git clone https://github.com/BC-Chang/porescale_permeability_2d.git\n",
        "  os.chdir(\"./porescale_permeability_2d\")\n",
        "\n",
        "from plotting_utils import plot_profile, plot_quiver, plot_streamlines\n",
        "\n",
        "# Import a timer\n",
        "from time import perf_counter_ns, sleep\n",
        "\n",
        "# Import ipywidgets\n",
        "import ipywidgets as widgets\n",
        "from ipywidgets import interact, interact_manual, interactive\n",
        "from IPython.display import display, clear_output\n",
        "\n",
        "import torch\n"
      ]
    },
    {
      "cell_type": "markdown",
      "metadata": {
        "id": "AhhZnkWEmaef"
      },
      "source": [
        "## Defining the lattice Boltzmann method\n",
        "\n",
        "On a basic level, LBM is a common simulation method for modeling how fluids move by tracking groups of particles on a grid. Instead of solving complex equations (Navier-Stokes) directly, LBM follows simple rules for how these particles collide and flow. We can then visualize and calculate a value for permeability the simulation results.\n",
        "\n",
        "If you are interested in specifics, see the [D2Q9_LBM_main.ipynb notebook](https://github.com/BC-Chang/porescale_permeability_2d/blob/master/D2Q9_LBM_main.ipynb)."
      ]
    },
    {
      "cell_type": "markdown",
      "metadata": {
        "id": "Jmz6WdbHvCxN"
      },
      "source": [
        "### Define lattice and discrete velocities"
      ]
    },
    {
      "cell_type": "code",
      "execution_count": null,
      "metadata": {
        "id": "1ExQDNCy04JW"
      },
      "outputs": [],
      "source": [
        "def initialize_weights():\n",
        "\n",
        "  # Define lattice velocity vectors\n",
        "  ex = np.array([0, 1, 0, -1, 0, 1, -1, -1, 1], dtype=np.double)\n",
        "  ey = np.array([0, 0, 1, 0, -1, 1, 1, -1, -1], dtype=np.double)\n",
        "\n",
        "\n",
        "  # Define weights\n",
        "  w_i = np.array([4./9.,\n",
        "                  1./9.,\n",
        "                  1./9.,\n",
        "                  1./9.,\n",
        "                  1./9.,\n",
        "                  1./36.,\n",
        "                  1./36.,\n",
        "                  1./36.,\n",
        "                  1./36.], dtype=np.double)\n",
        "\n",
        "  return ex, ey, w_i"
      ]
    },
    {
      "cell_type": "markdown",
      "metadata": {
        "id": "yLwoKN28CEPv"
      },
      "source": [
        "### Obtaining Macroscopic Properties\n",
        "\n",
        "The following function computes some macroscopic density and momentum from the particle distributions.\n"
      ]
    },
    {
      "cell_type": "code",
      "execution_count": null,
      "metadata": {
        "id": "ATC68OUK04JW"
      },
      "outputs": [],
      "source": [
        "def macroscopic(f, fx, fy, ex, ey, nx, ny):\n",
        "\n",
        "  device = torch.device('cuda' if torch.cuda.is_available() else 'cpu')\n",
        "\n",
        "  # Initialize outputs to 0s\n",
        "  u_x = torch.zeros((nx, ny), dtype=torch.float64).to(device)\n",
        "  u_y = torch.zeros((nx, ny), dtype=torch.float64).to(device)\n",
        "  rho = torch.zeros((nx, ny), dtype=torch.float64).to(device)\n",
        "\n",
        "  # Calculate macroscopic properties from moments. Only calculate where there are fluid nodes\n",
        "  # Density\n",
        "  rho[fx, fy] += torch.sum(f[:, fx, fy], axis=0)\n",
        "\n",
        "  # Velocity\n",
        "  u_x[fx, fy] += torch.sum(ex[:, None] * f[:, fx, fy], axis=0)\n",
        "  u_y[fx, fy] += torch.sum(ey[:, None] * f[:, fx, fy], axis=0)\n",
        "  u_x[fx, fy] = u_x[fx, fy] / rho[fx, fy]\n",
        "  u_y[fx, fy] = u_y[fx, fy] / rho[fx, fy]\n",
        "\n",
        "  return rho, u_x, u_y\n"
      ]
    },
    {
      "cell_type": "markdown",
      "metadata": {
        "id": "rC4_zbUP4ibV"
      },
      "source": [
        "### Equilibrium Calculation\n"
      ]
    },
    {
      "cell_type": "code",
      "execution_count": null,
      "metadata": {
        "id": "JOln7u-q04JX"
      },
      "outputs": [],
      "source": [
        "def equilibrium(rho, ux, uy, ex, ey, w_i, nx, ny, fx, fy, tau, g):\n",
        "  device = torch.device('cuda' if torch.cuda.is_available() else 'cpu')\n",
        "\n",
        "  # Extract only fluid nodes and add forcing to velocity\n",
        "  ux = ux[fx, fy] + tau*g\n",
        "  uy = uy[fx, fy]\n",
        "\n",
        "  feq = torch.zeros((9, nx, ny), dtype=torch.float64).to(device)\n",
        "\n",
        "  for i in range(9):\n",
        "    # Compute 2nd term in parenthesis of feq equation above\n",
        "    uc = ex[i]*ux + ey[i]*uy\n",
        "    feq[i, fx, fy] = rho[fx, fy] * w_i[i] * (1 + 3*uc + (9./2.)*uc**2 - (3./2.)*(ux**2 + uy**2))\n",
        "\n",
        "  return feq"
      ]
    },
    {
      "cell_type": "markdown",
      "metadata": {
        "id": "dypCm0NNumzO"
      },
      "source": [
        "### Collision Step"
      ]
    },
    {
      "cell_type": "code",
      "execution_count": null,
      "metadata": {
        "id": "bUzqriAS04JX"
      },
      "outputs": [],
      "source": [
        "def collision(f, feq, tau, sx, sy, fx, fy):\n",
        "    # Standard Bounceback for Solid Nodes\n",
        "    # Left-Right\n",
        "    f[1, sx, sy], f[3, sx, sy] = f[3, sx, sy], f[1, sx, sy]\n",
        "\n",
        "    # Up-Down\n",
        "    f[2, sx, sy], f[4, sx, sy] = f[4, sx, sy], f[2, sx, sy]\n",
        "\n",
        "    # Top Right - Bottom Left\n",
        "    f[5, sx, sy], f[7, sx, sy] = f[7, sx, sy], f[5, sx, sy]\n",
        "\n",
        "    # Top Left - Bottom Right\n",
        "    f[6, sx, sy], f[8, sx, sy]  = f[8, sx, sy], f[6, sx, sy]\n",
        "\n",
        "    # Regular collision in fluid nodes\n",
        "    f[:, fx, fy] -= (f[:, fx, fy] - feq[:, fx, fy]) / tau\n",
        "\n",
        "    return f"
      ]
    },
    {
      "cell_type": "markdown",
      "metadata": {
        "id": "x0rO3TeyzzJd"
      },
      "source": [
        "### Putting it all together\n",
        "\n",
        "Putting the above functions into a time loop will give us our first simulator!\n",
        "\n",
        "Our first example will be simulating the flow around a cylinder, known as the Karman vortex street — considered a \"Hello, World!\" of LBM simulations."
      ]
    },
    {
      "cell_type": "code",
      "execution_count": null,
      "metadata": {
        "id": "cSgbX-av04JY"
      },
      "outputs": [],
      "source": [
        "def run_lbm(data):\n",
        "\n",
        "    # Initialization\n",
        "    tau = 1.0  # Relaxation time\n",
        "    g = 0.00001  # Gravity or other force\n",
        "    density = 1.\n",
        "    tf = 10001  # Maximum number of iteration steps\n",
        "    precision = 1.E-5  # Convergence criterion\n",
        "    vold = 1000\n",
        "    eps = 1E-6\n",
        "\n",
        "    device = torch.device('cuda' if torch.cuda.is_available() else 'cpu')\n",
        "    data = torch.tensor(data).to(device)\n",
        "    check_convergence = 30  # Check convergence every [check_convergence] time steps\n",
        "\n",
        "    # Define lattice velocity vectors\n",
        "    ex, ey, w_i = initialize_weights()\n",
        "    ex = torch.tensor(ex).to(device)\n",
        "    ey = torch.tensor(ey).to(device)\n",
        "    w_i = torch.tensor(w_i).to(device)\n",
        "\n",
        "    # Indices of fluid nodes\n",
        "    fluid_id = torch.argwhere(data == 0).to(device)\n",
        "    fx = fluid_id[:, 0]\n",
        "    fy = fluid_id[:, 1]\n",
        "\n",
        "    # Indices of solid nodes\n",
        "    solid_id = torch.argwhere(data == 1).to(device)\n",
        "    sx = solid_id[:, 0]\n",
        "    sy = solid_id[:, 1]\n",
        "\n",
        "    # Solid nodes are labeled 1, fluid nodes are labeled 0\n",
        "    is_solid_node = data\n",
        "\n",
        "    nx, ny = data.shape\n",
        "\n",
        "    # Initialize distribution functions\n",
        "    f = w_i * density\n",
        "    # Broadcast to 3D array with each slice corresponding to a direction's weights\n",
        "    f = torch.tile(f[:, None, None], (nx, ny)).type(torch.float64).to(device)\n",
        "\n",
        "    # Allocate memory to equilibrium functions\n",
        "    feq = torch.empty_like(f, dtype=torch.float64).to(device)\n",
        "\n",
        "    # Each point has x-component ex, and y-component ey\n",
        "    u_x = torch.empty((nx, ny), dtype=torch.float64).to(device)\n",
        "    u_y = torch.empty((nx, ny), dtype=torch.float64).to(device)\n",
        "\n",
        "    # Node density\n",
        "    rho = torch.zeros((nx, ny), dtype=torch.float64)\n",
        "\n",
        "    # # Begin time loop\n",
        "    tic = perf_counter_ns()\n",
        "    for ts in tqdm(range(tf)):\n",
        "        # print(f\"{ts = }\")  # Print timestep\n",
        "\n",
        "        # Compute macroscopic density, rho and velocity.\n",
        "        rho, u_x, u_y = macroscopic(f, fx, fy, ex, ey, nx, ny)\n",
        "\n",
        "        # Add forcing to velocity and compute equilibrium function\n",
        "        feq = equilibrium(rho, u_x, u_y, ex, ey, w_i, nx, ny, fx, fy, tau, g)\n",
        "\n",
        "        # Collision Step\n",
        "        f = collision(f, feq, tau, sx, sy, fx, fy)\n",
        "\n",
        "        # Streaming Step\n",
        "        f[1] = torch.roll(f[1], 1, dims=1)\n",
        "        f[2] = torch.roll(f[2], 1, dims=0)\n",
        "        f[3] = torch.roll(f[3], -1, dims=1)\n",
        "        f[4] = torch.roll(f[4], -1, dims=0)\n",
        "\n",
        "        f[5] = torch.roll(f[5], (1, 1), dims=(0,1))\n",
        "        f[6] = torch.roll(f[6], (-1, 1), dims=(1,0))\n",
        "        f[7] = torch.roll(f[7], (-1, -1), dims=(0,1))\n",
        "        f[8] = torch.roll(f[8], (1, -1), dims=(1,0))\n",
        "\n",
        "        # Calculate velocity\n",
        "        u = torch.sqrt(u_x**2 + u_y**2)\n",
        "\n",
        "        # Check convergence every check_convergence time step\n",
        "        if ts % check_convergence == 0:\n",
        "\n",
        "            vnew = torch.mean(u)\n",
        "            error = torch.abs(vold - vnew) / (vold+eps)\n",
        "            vold = vnew\n",
        "\n",
        "            if error < precision:\n",
        "                print(f'Simulation has converged in {ts} time steps')\n",
        "                break\n",
        "\n",
        "        if ts == tf:\n",
        "            print('Reached maximum iterations')\n",
        "\n",
        "    toc = perf_counter_ns()\n",
        "    print(f\"Elapsed Time: {(toc - tic)*1E-9}s\")\n",
        "\n",
        "    u_x = u_x.to('cpu')\n",
        "    u_y = u_y.to('cpu')\n",
        "    u = u.to('cpu')\n",
        "\n",
        "    return u_x, u_y, u"
      ]
    },
    {
      "cell_type": "markdown",
      "metadata": {
        "id": "LMryrTiS9e43",
        "pycharm": {
          "name": "#%% md\n"
        }
      },
      "source": [
        "###  Read in the geometry\n",
        "Before we get into the flow simulation, let's first read in our geometry. For this exercise, we assume a 2D binary image with:\n",
        "- 0 indicating fluid space\n",
        "- 1 indicating solid space\n",
        "\n",
        "For this workshop, we select an image from the data folder. You can also load in your own image or create one yourself if you'd like.\n"
      ]
    },
    {
      "cell_type": "code",
      "execution_count": null,
      "metadata": {
        "id": "EoQaGa9T04JY"
      },
      "outputs": [],
      "source": [
        "Nx = 150\n",
        "Ny = 150\n",
        "X, Y = np.meshgrid(range(Nx), range(Ny))\n",
        "data = (X - Nx/4)**2 + (Y - Ny/2)**2 < (Ny/8)**2\n",
        "\n",
        "plt.imshow(data, cmap='binary')\n",
        "plt.colorbar()\n"
      ]
    },
    {
      "cell_type": "markdown",
      "metadata": {
        "id": "jfvHC6vmVdvO"
      },
      "source": [
        "Let's run our LBM simulation! This simulation does not fully converge in the default number of iterations, but it gets the point across. This should take about one minute to run."
      ]
    },
    {
      "cell_type": "code",
      "execution_count": null,
      "metadata": {
        "id": "Da-G1L8v04JY"
      },
      "outputs": [],
      "source": [
        "u_x, u_y, u = run_lbm(data)"
      ]
    },
    {
      "cell_type": "code",
      "execution_count": null,
      "metadata": {
        "id": "R9AKqW6y04JZ"
      },
      "outputs": [],
      "source": [
        "_ = plot_profile(u, cmap='jet')"
      ]
    },
    {
      "cell_type": "code",
      "execution_count": null,
      "metadata": {
        "id": "ziGThZ9g04JZ"
      },
      "outputs": [],
      "source": [
        "#@title Read in data\n",
        "geom_options = os.listdir(\"./data/\")\n",
        "\n",
        "# TODO create catalog of images, read in from drop down, and plot.\n",
        "data_dropdown = widgets.Dropdown(\n",
        "    concise=False,\n",
        "    options=geom_options,\n",
        "    value='beads.tif',\n",
        "    description='Select a file to read in'\n",
        ")\n",
        "\n",
        "# select_button = widgets.Button(description='I want this one!')\n",
        "# output = widgets.Output()\n",
        "def read_in_and_plot(dropdown):\n",
        "  display(dropdown)\n",
        "  data = tifffile.imread(os.path.join(\"./data/\", dropdown))\n",
        "  clear_output(wait=True)\n",
        "  display(dropdown)\n",
        "  plt.imshow(data, cmap='binary')\n",
        "  plt.colorbar()\n",
        "  plt.show()\n",
        "\n",
        "  return data\n",
        "\n",
        "widget = widgets.interactive(read_in_and_plot, dropdown=geom_options)\n",
        "display(widget)\n"
      ]
    },
    {
      "cell_type": "code",
      "execution_count": null,
      "metadata": {
        "id": "u_ucTFZa04JZ"
      },
      "outputs": [],
      "source": [
        "data = widget.result\n",
        "u_x, u_y, u = run_lbm(data)\n"
      ]
    },
    {
      "cell_type": "code",
      "execution_count": null,
      "metadata": {
        "id": "r-ki22h-04JZ"
      },
      "outputs": [],
      "source": [
        "# from plotting_utils import plot_quiver\n",
        "profile_fig = plot_profile(u, cmap='jet')"
      ]
    },
    {
      "cell_type": "markdown",
      "metadata": {
        "id": "r1Hf99NLeQjL"
      },
      "source": [
        "## Calculate Permeability\n",
        "\n",
        "Once we have the velocity field, we can compute the absolute permeability using Darcy's law:\n",
        "\n",
        "$$k = \\frac{\\bar{u} \\mu L}{\\Delta P}$$\n",
        "\n",
        "Since we used a force to drive flow (instead of pressure), we can equivalently compute permeability as\n",
        "\n",
        "$$k = \\frac{\\bar{u} \\mu}{F}$$\n",
        "\n",
        "\n",
        "Keep in mind that the calculated permeability will be in lattice units ($lu^2$). To convert to the true permeability, we would need to know the physical size of our grid.\n"
      ]
    },
    {
      "cell_type": "code",
      "execution_count": null,
      "metadata": {
        "id": "NEAIH4aZ04JZ"
      },
      "outputs": [],
      "source": [
        "def permeability(ux, tau=1.0, F=0.00001):\n",
        "  u_mean = torch.mean(ux[ux != 0])\n",
        "  print(f\"Average Velocity = {u_mean} lu/ts\")\n",
        "\n",
        "  mu = (tau - 0.5) / 3\n",
        "  permeability = u_mean * mu / F\n",
        "\n",
        "  print(f\"Permeability = {permeability} lu^2\")\n",
        "  return\n",
        "\n",
        "# Calculate the average velocity for our image\n",
        "permeability(u_x)"
      ]
    },
    {
      "cell_type": "markdown",
      "source": [
        "## Porosimetry\n",
        "\n",
        "Porosimetry is a method used to measure the numbers and sizes of pores. It helps us understand how easily fluids (or small beads) can pass through the material."
      ],
      "metadata": {
        "id": "YtYkVs_aUOpv"
      }
    },
    {
      "cell_type": "code",
      "source": [
        "#@title Read in data\n",
        "geom_options = os.listdir(\"./data/\")\n",
        "\n",
        "# TODO create catalog of images, read in from drop down, and plot.\n",
        "data_dropdown = widgets.Dropdown(\n",
        "    concise=False,\n",
        "    options=geom_options,\n",
        "    value='beads.tif',\n",
        "    description='Select a file to read in'\n",
        ")\n",
        "\n",
        "# select_button = widgets.Button(description='I want this one!')\n",
        "# output = widgets.Output()\n",
        "def read_in_and_plot(dropdown):\n",
        "  display(dropdown)\n",
        "  data = tifffile.imread(os.path.join(\"./data/\", dropdown))\n",
        "  clear_output(wait=True)\n",
        "  display(dropdown)\n",
        "  plt.imshow(data, cmap='binary')\n",
        "  plt.colorbar()\n",
        "  plt.show()\n",
        "\n",
        "  return data\n",
        "\n",
        "widget = widgets.interactive(read_in_and_plot, dropdown=geom_options)\n",
        "display(widget)"
      ],
      "metadata": {
        "id": "rmhwlvWFUCnd"
      },
      "execution_count": null,
      "outputs": []
    },
    {
      "cell_type": "markdown",
      "source": [
        "### Traditional Drainage Curve\n",
        "\n",
        "In the following cell we will run a porosimetry simulation and plot the *drainage curve*.\n",
        "\n",
        "We want to measure how *capillary pressure*, which is inversely related to pore radius, varies with *saturation* (how much of one fluid is present versus the other). In other words, we are measuring how much pressure must be applied to push a certain amount of fluid into the porous material.\n",
        "\n",
        "**The key idea:**\n",
        "\n",
        "To push more fluid into the sample (i.e., to increase saturation), we need to overcome capillary forces in progressively smaller pores — which means applying higher pressure.\n"
      ],
      "metadata": {
        "id": "dMIa1YxZgLnu"
      }
    },
    {
      "cell_type": "code",
      "source": [
        "data = widget.result\n",
        "# Invert the data. Pores should be labeled 1, solids 0\n",
        "data = ~(data.astype(bool))\n",
        "# Define inlet\n",
        "inlet = np.zeros_like(data)\n",
        "# Inlet is on the left boundary of the image\n",
        "inlet[:, 0] = True\n",
        "\n",
        "# Run porosimetry from PoreSpy\n",
        "mip = ps.filters.porosimetry(im=data, inlets=inlet)\n",
        "pore_radii = ps.metrics.pore_size_distribution(mip, log=False)\n",
        "saturation = 1 - pore_radii.cdf\n",
        "\n",
        "fig, ax = plt.subplots(1, 2, figsize=[8, 4])\n",
        "ax[0].imshow(mip)\n",
        "ax[1].plot(saturation, 1/pore_radii.R, 'bo-')\n",
        "ax[1].set_xlabel('Saturation');\n",
        "ax[1].set_ylabel('Pore Radius [voxels]')\n",
        "ax[1].set_xlim([-0.10, 1])\n",
        "\n",
        "plt.tight_layout()"
      ],
      "metadata": {
        "id": "iDuEl1_7Vjcc"
      },
      "execution_count": null,
      "outputs": []
    },
    {
      "cell_type": "markdown",
      "source": [
        "**Another way to think about this:**\n",
        "\n",
        "Imagine rolling a ball of radius $r$ into the porous medium. The ball can only enter regions where the pores are large enough to fit it. As we decrease the radius of the ball, it can reach deeper into the structure. This is similar to how increasing capillary pressure allows fluid to invade smaller pores."
      ],
      "metadata": {
        "id": "IKpUsiTyf1Jc"
      }
    },
    {
      "cell_type": "code",
      "source": [
        "fig, ax = plt.subplots(1, 2, figsize=[8, 4])\n",
        "ax[0].imshow(mip)\n",
        "ax[1].plot(pore_radii.R, 1-saturation, 'bo-')\n",
        "ax[1].set_ylabel('Invaded Saturation');\n",
        "ax[1].set_xlabel('Pore Radius [voxels]')\n",
        "\n",
        "plt.tight_layout()"
      ],
      "metadata": {
        "id": "_fjJiPBJfbzD"
      },
      "execution_count": null,
      "outputs": []
    }
  ],
  "metadata": {
    "language_info": {
      "name": "python"
    },
    "colab": {
      "provenance": [],
      "gpuType": "T4",
      "include_colab_link": true
    },
    "kernelspec": {
      "name": "python3",
      "display_name": "Python 3"
    },
    "accelerator": "GPU"
  },
  "nbformat": 4,
  "nbformat_minor": 0
}