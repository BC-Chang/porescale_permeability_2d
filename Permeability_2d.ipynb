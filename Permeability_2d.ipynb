{
  "cells": [
    {
      "cell_type": "markdown",
      "metadata": {
        "id": "view-in-github",
        "colab_type": "text"
      },
      "source": [
        "<a href=\"https://colab.research.google.com/github/BC-Chang/porescale_permeability_2d/blob/master/Permeability_2d.ipynb\" target=\"_parent\"><img src=\"https://colab.research.google.com/assets/colab-badge.svg\" alt=\"Open In Colab\"/></a>"
      ]
    },
    {
      "cell_type": "markdown",
      "metadata": {
        "id": "N-k4vBB36_sw",
        "pycharm": {
          "name": "#%% md\n"
        }
      },
      "source": [
        "# 2D Permeability Estimation\n",
        "\n",
        "In this activity, we will compute the single phase permeability of a 2D sample using lattice Boltzmann (LBM) simulations.\n",
        "\n",
        "Before we get started, let's import some packages."
      ]
    },
    {
      "cell_type": "code",
      "execution_count": null,
      "metadata": {
        "id": "1gE4Q1IO04JV"
      },
      "outputs": [],
      "source": [
        "#@title Import Packages\n",
        "%%capture\n",
        "!pip install porespy\n",
        "\n",
        "import numpy as np\n",
        "import matplotlib.pyplot as plt\n",
        "import scipy as sc\n",
        "import tifffile\n",
        "import porespy as ps\n",
        "\n",
        "from skimage.measure import regionprops,label\n",
        "from skimage.morphology import binary_erosion, binary_dilation\n",
        "\n",
        "import sys\n",
        "import os\n",
        "from tqdm import tqdm\n",
        "\n",
        "try:\n",
        "  os.chdir(\"./porescale_permeability_2d\")\n",
        "  # sys.path.append(\"./LBM_Workshop/\")\n",
        "except:\n",
        "  !git clone https://github.com/BC-Chang/porescale_permeability_2d.git\n",
        "  os.chdir(\"./porescale_permeability_2d\")\n",
        "\n",
        "from plotting_utils import plot_profile, plot_quiver, plot_streamlines\n",
        "from lbm import run_lbm\n",
        "\n",
        "# Import a timer\n",
        "from time import perf_counter_ns, sleep\n",
        "\n",
        "# Import ipywidgets\n",
        "import ipywidgets as widgets\n",
        "from ipywidgets import interact, interact_manual, interactive\n",
        "from IPython.display import display, clear_output\n",
        "\n",
        "import torch\n"
      ]
    },
    {
      "cell_type": "markdown",
      "metadata": {
        "id": "AhhZnkWEmaef"
      },
      "source": [
        "## Defining the lattice Boltzmann method\n",
        "\n",
        "On a basic level, LBM is a common simulation method for modeling how fluids move by tracking groups of particles on a grid. Instead of solving complex equations (Navier-Stokes) directly, LBM follows simple rules for how these particles collide and flow. We can then visualize and calculate a value for permeability the simulation results.\n",
        "\n",
        "If you are interested in specifics, see the [D2Q9_LBM_main.ipynb notebook](https://github.com/BC-Chang/porescale_permeability_2d/blob/master/D2Q9_LBM_main.ipynb)."
      ]
    },
    {
      "cell_type": "markdown",
      "metadata": {
        "id": "LMryrTiS9e43",
        "pycharm": {
          "name": "#%% md\n"
        }
      },
      "source": [
        "###  Read in the geometry\n",
        "Before we get into the flow simulation, let's first read in our geometry. For this exercise, we assume a 2D binary image with:\n",
        "- 0 indicating fluid space\n",
        "- 1 indicating solid space\n",
        "\n",
        "For this workshop, we select an image from the data folder. You can also load in your own image or create one yourself if you'd like.\n"
      ]
    },
    {
      "cell_type": "code",
      "execution_count": null,
      "metadata": {
        "id": "EoQaGa9T04JY"
      },
      "outputs": [],
      "source": [
        "Nx = 150\n",
        "Ny = 150\n",
        "X, Y = np.meshgrid(range(Nx), range(Ny))\n",
        "data = (X - Nx/4)**2 + (Y - Ny/2)**2 < (Ny/8)**2\n",
        "\n",
        "plt.imshow(data, cmap='binary')\n",
        "plt.colorbar()\n"
      ]
    },
    {
      "cell_type": "markdown",
      "metadata": {
        "id": "jfvHC6vmVdvO"
      },
      "source": [
        "Let's run our LBM simulation! This simulation does not fully converge in the default number of iterations, but it gets the point across. This should take about one minute to run."
      ]
    },
    {
      "cell_type": "code",
      "execution_count": null,
      "metadata": {
        "id": "Da-G1L8v04JY"
      },
      "outputs": [],
      "source": [
        "u_x, u_y, u = run_lbm(data)"
      ]
    },
    {
      "cell_type": "code",
      "execution_count": null,
      "metadata": {
        "id": "R9AKqW6y04JZ"
      },
      "outputs": [],
      "source": [
        "_ = plot_profile(u, cmap='jet')"
      ]
    },
    {
      "cell_type": "code",
      "execution_count": null,
      "metadata": {
        "id": "ziGThZ9g04JZ"
      },
      "outputs": [],
      "source": [
        "#@title Read in data\n",
        "geom_options = os.listdir(\"./data/\")\n",
        "\n",
        "# Widget to read in from drop down, and plot.\n",
        "data_dropdown = widgets.Dropdown(\n",
        "    concise=False,\n",
        "    options=geom_options,\n",
        "    value='segmented_gambier.tif',\n",
        "    description='Select a file to read in'\n",
        ")\n",
        "\n",
        "erosion_slider = widgets.IntSlider(\n",
        "    value=0,\n",
        "    min=0,\n",
        "    max=10,\n",
        "    step=1,\n",
        "    description='Erosion steps'\n",
        ")\n",
        "\n",
        "# output = widgets.Output()\n",
        "def read_in_and_plot(dropdown, erosion_slider):\n",
        "  display(dropdown)\n",
        "  data = tifffile.imread(os.path.join(\"./data/\", dropdown))\n",
        "  clear_output(wait=True)\n",
        "  display(dropdown)\n",
        "  display(erosion_slider)\n",
        "  for i in range(max(1, erosion_slider)):\n",
        "    data = binary_erosion(data)\n",
        "  plt.imshow(data, cmap='binary')\n",
        "  plt.colorbar()\n",
        "  plt.show()\n",
        "\n",
        "  return data\n",
        "\n",
        "widget = widgets.interactive(read_in_and_plot, dropdown=geom_options, erosion_slider=erosion_slider)\n",
        "display(widget)\n"
      ]
    },
    {
      "cell_type": "code",
      "execution_count": null,
      "metadata": {
        "id": "u_ucTFZa04JZ"
      },
      "outputs": [],
      "source": [
        "data = widget.result\n",
        "\n",
        "u_x, u_y, u = run_lbm(data)"
      ]
    },
    {
      "cell_type": "code",
      "execution_count": null,
      "metadata": {
        "id": "r-ki22h-04JZ"
      },
      "outputs": [],
      "source": [
        "# from plotting_utils import plot_quiver\n",
        "profile_fig = plot_profile(u, cmap='jet')"
      ]
    },
    {
      "cell_type": "markdown",
      "metadata": {
        "id": "r1Hf99NLeQjL"
      },
      "source": [
        "## Calculate Permeability\n",
        "\n",
        "Once we have the velocity field, we can compute the absolute permeability using Darcy's law:\n",
        "\n",
        "$$k = \\frac{\\bar{u} \\mu L}{\\Delta P}$$\n",
        "\n",
        "Since we used a force to drive flow (instead of pressure), we can equivalently compute permeability as\n",
        "\n",
        "$$k = \\frac{\\bar{u} \\mu}{F}$$\n",
        "\n",
        "\n",
        "Keep in mind that the calculated permeability will be in lattice units ($lu^2$). To convert to the true permeability, we would need to know the physical size of our grid.\n"
      ]
    },
    {
      "cell_type": "code",
      "execution_count": null,
      "metadata": {
        "id": "NEAIH4aZ04JZ"
      },
      "outputs": [],
      "source": [
        "def permeability(ux, tau=1.0, F=0.00001):\n",
        "  u_mean = torch.nanmean(ux[ux != 0])\n",
        "  print(f\"Average Velocity = {u_mean} lu/ts\")\n",
        "\n",
        "  mu = (tau - 0.5) / 3\n",
        "  permeability = u_mean * mu / F\n",
        "\n",
        "  print(f\"Permeability = {permeability} lu^2\")\n",
        "  return\n",
        "\n",
        "# Calculate the average velocity for our image\n",
        "permeability(u_x)"
      ]
    },
    {
      "cell_type": "markdown",
      "source": [
        "## Porosimetry\n",
        "\n",
        "Porosimetry is a method used to measure the numbers and sizes of pores. It helps us understand how easily fluids (or small beads) can pass through the material."
      ],
      "metadata": {
        "id": "YtYkVs_aUOpv"
      }
    },
    {
      "cell_type": "markdown",
      "source": [
        "### Traditional Drainage Curve\n",
        "\n",
        "In the following cell we will run a porosimetry simulation and plot the *drainage curve*.\n",
        "\n",
        "We want to measure how *capillary pressure*, which is inversely related to pore radius, varies with *saturation* (how much of one fluid is present versus the other). In other words, we are measuring how much pressure must be applied to push a certain amount of fluid into the porous material.\n",
        "\n",
        "**The key idea:**\n",
        "\n",
        "To push more fluid into the sample (i.e., to increase saturation), we need to overcome capillary forces in progressively smaller pores — which means applying higher pressure.\n"
      ],
      "metadata": {
        "id": "dMIa1YxZgLnu"
      }
    },
    {
      "cell_type": "code",
      "source": [
        "data = widget.result\n",
        "# Invert the data. Pores should be labeled 1, solids 0\n",
        "data = (data == 0).astype(np.uint8)\n",
        "# Define inlet\n",
        "inlet = np.zeros_like(data)\n",
        "# Inlet is on the left boundary of the image\n",
        "inlet[:, 0] = True\n",
        "\n",
        "# Run porosimetry from PoreSpy\n",
        "mip = ps.filters.porosimetry(im=data, inlets=inlet)\n",
        "pore_radii = ps.metrics.pore_size_distribution(mip, log=False)\n",
        "saturation = 1 - pore_radii.cdf\n",
        "\n",
        "fig, ax = plt.subplots(1, 2, figsize=[8, 4])\n",
        "ax[0].imshow(mip)\n",
        "ax[1].plot(saturation, 1/pore_radii.R, 'bo-')\n",
        "ax[1].set_xlabel('Saturation');\n",
        "ax[1].set_ylabel('1/Pore Radius [voxels]')\n",
        "ax[1].set_xlim([-0.10, 1])\n",
        "\n",
        "plt.tight_layout()"
      ],
      "metadata": {
        "id": "iDuEl1_7Vjcc"
      },
      "execution_count": null,
      "outputs": []
    },
    {
      "cell_type": "markdown",
      "source": [
        "**Another way to think about this:**\n",
        "\n",
        "Imagine rolling a ball of radius $r$ into the porous medium. The ball can only enter regions where the pores are large enough to fit it. As we decrease the radius of the ball, it can reach deeper into the structure. This is similar to how increasing capillary pressure allows fluid to invade smaller pores."
      ],
      "metadata": {
        "id": "IKpUsiTyf1Jc"
      }
    },
    {
      "cell_type": "code",
      "source": [
        "fig, ax = plt.subplots(1, 2, figsize=[8, 4])\n",
        "ax[0].imshow(mip)\n",
        "ax[1].plot(pore_radii.R, 1-saturation, 'bo-')\n",
        "ax[1].set_ylabel('Invaded Saturation');\n",
        "ax[1].set_xlabel('Pore Radius [voxels]')\n",
        "\n",
        "plt.tight_layout()"
      ],
      "metadata": {
        "id": "_fjJiPBJfbzD"
      },
      "execution_count": null,
      "outputs": []
    }
  ],
  "metadata": {
    "language_info": {
      "name": "python"
    },
    "colab": {
      "provenance": [],
      "gpuType": "T4",
      "include_colab_link": true
    },
    "kernelspec": {
      "name": "python3",
      "display_name": "Python 3"
    },
    "accelerator": "GPU"
  },
  "nbformat": 4,
  "nbformat_minor": 0
}